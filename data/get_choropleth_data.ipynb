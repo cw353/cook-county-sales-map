{
 "cells": [
  {
   "cell_type": "code",
   "execution_count": 1,
   "id": "0c3f23e8",
   "metadata": {},
   "outputs": [],
   "source": [
    "import numpy as np\n",
    "import pandas as pd\n",
    "import json\n",
    "from datetime import datetime\n",
    "today = datetime.now().strftime('%d %B %Y')"
   ]
  },
  {
   "cell_type": "code",
   "execution_count": 7,
   "id": "6bb7dcdf",
   "metadata": {},
   "outputs": [
    {
     "name": "stderr",
     "output_type": "stream",
     "text": [
      "/var/folders/7b/cxqkjv5514q19434nrk5rx0r0000gp/T/ipykernel_2011/798435012.py:2: DtypeWarning: Columns (1) have mixed types. Specify dtype option on import or set low_memory=False.\n",
      "  sales = pd.read_csv('sales_2019+_major_class_2.csv')\n"
     ]
    }
   ],
   "source": [
    "# https://datacatalog.cookcountyil.gov/resource/wvhk-k5uv.csv?$select=pin, nbhd_code, class, sale_price&$where=year>2018 AND starts_with(class,'2')&$limit=1000000000000\n",
    "sales = pd.read_csv('sales_2019+_major_class_2.csv')\n",
    "sales['pin'] = sales['pin'].astype('str').str.zfill(14)\n",
    "sales['nbhd_code'] = sales['nbhd_code'].astype('str')"
   ]
  },
  {
   "cell_type": "code",
   "execution_count": 2,
   "id": "bc29a841",
   "metadata": {},
   "outputs": [],
   "source": [
    "# https://datacatalog.cookcountyil.gov/resource/uzyt-m557.csv?$select=pin, class, certified_tot, certified_land, certified_bldg&$where=year=2022 AND starts_with(class, '2') AND certified_tot > 0&$limit=1000000000000\n",
    "assessed = pd.read_csv('assessed_2022_major_class_2_nonzero_certified_tot.csv')\n",
    "assessed['pin'] = assessed['pin'].astype('str').str.zfill(14)"
   ]
  },
  {
   "cell_type": "code",
   "execution_count": 3,
   "id": "96a25339",
   "metadata": {},
   "outputs": [],
   "source": [
    "# https://datacatalog.cookcountyil.gov/resource/nj4t-kc8j.csv?$select=pin, class, triad_name, nbhd_code, ward_num, ward_chicago_data_year, chicago_community_area_name, chicago_community_area_data_year&$where=year=2022&$limit=1000000000000\n",
    "loc = pd.read_csv('parcel_universe_2022.csv')\n",
    "loc['pin'] = loc['pin'].astype('str').str.zfill(14)"
   ]
  },
  {
   "cell_type": "code",
   "execution_count": 4,
   "id": "b17b81a6",
   "metadata": {},
   "outputs": [],
   "source": [
    "def aggregate(source, groupby, columns, round_to_int = True, include_total = True, modify_index = None):\n",
    "    multiple_cols = True if isinstance(columns, list) and len(columns) > 1 else False\n",
    "    grouped = source.groupby(\n",
    "        by=groupby\n",
    "    )[columns].describe(\n",
    "        percentiles = [.5]\n",
    "    ).rename(\n",
    "        columns = {'50%': 'median'}\n",
    "    )\n",
    "    if modify_index is not None:\n",
    "        grouped.index = modify_index(grouped.index)\n",
    "    \n",
    "    if multiple_cols:\n",
    "        tmp = pd.DataFrame(\n",
    "            index = pd.MultiIndex.from_arrays([\n",
    "                np.ravel([[i]*grouped.columns.levels[0].shape[0] for i in grouped.index]),\n",
    "                list(grouped.columns.levels[0])*grouped.index.shape[0]\n",
    "            ]),\n",
    "            columns = grouped.columns.levels[1]\n",
    "        )\n",
    "        for i in grouped.index:\n",
    "            for j in grouped.columns.levels[0]:\n",
    "                tmp.loc[i, j] = grouped.loc[i, j]\n",
    "        grouped = tmp\n",
    "\n",
    "    if include_total:\n",
    "        total = source[columns].describe(\n",
    "            percentiles = [.5]\n",
    "        ).rename(\n",
    "            {'50%': 'median'}\n",
    "        )\n",
    "        if multiple_cols:\n",
    "            total = total.T\n",
    "            total.index = pd.MultiIndex.from_arrays([['total']*total.index.shape[0], total.index])\n",
    "            total = total[grouped.columns].sort_index(level=0)\n",
    "            grouped = pd.concat([grouped, total])\n",
    "        else:\n",
    "            grouped.loc['total'] = total\n",
    "    return grouped.round(0).astype('int') if round_to_int else grouped"
   ]
  },
  {
   "cell_type": "code",
   "execution_count": 6,
   "id": "df5f9068",
   "metadata": {},
   "outputs": [],
   "source": [
    "nbhd_list = pd.read_csv('neighborhood_list.csv')['nbhd_code'].astype('str').unique()"
   ]
  },
  {
   "cell_type": "code",
   "execution_count": 12,
   "id": "01f2c87a",
   "metadata": {},
   "outputs": [],
   "source": [
    "merged = pd.merge(\n",
    "    sales,\n",
    "    loc,\n",
    "    how = 'left',\n",
    "    on = 'pin',\n",
    "    suffixes = [\"\", \"_parcel_universe\"]\n",
    ")\n",
    "\n",
    "sales_data = {\n",
    "    'sales_by_ward' : aggregate(\n",
    "        source = merged[~pd.isna(merged['ward_chicago_data_year'])],\n",
    "        groupby = ['ward_num'],\n",
    "        columns = 'sale_price',\n",
    "        modify_index = lambda index: index.astype('int'),\n",
    "    ),\n",
    "    'sales_by_nbhd' : aggregate(\n",
    "        source = merged[merged['nbhd_code'].isin(nbhd_list)],\n",
    "        groupby = ['nbhd_code'],\n",
    "        columns = 'sale_price'\n",
    "    ),\n",
    "    'sales_by_community' : aggregate(\n",
    "        source = merged[~pd.isna(merged['chicago_community_area_name'])],\n",
    "        groupby = ['chicago_community_area_name'],\n",
    "        columns = 'sale_price'\n",
    "    )\n",
    "}\n",
    "\n",
    "with open('sales_data.js', 'w') as f:\n",
    "    f.write(f'const sales_date = \"{today}\";')\n",
    "    for name, data in sales_data.items():\n",
    "        f.write(f'\\n\\nconst {name} = ')\n",
    "        f.write(data.to_json(orient='index'))\n",
    "        f.write(';')"
   ]
  },
  {
   "cell_type": "code",
   "execution_count": 23,
   "id": "191c8837",
   "metadata": {},
   "outputs": [],
   "source": [
    "merged = pd.merge(\n",
    "    assessed,\n",
    "    loc,\n",
    "    how = 'left',\n",
    "    on = 'pin',\n",
    "    suffixes = [\"\", \"_parcel_universe\"]\n",
    ")\n",
    "merged['nbhd_code'] = merged['nbhd_code'].astype('str')\n",
    "\n",
    "assessed_data = {\n",
    "    'assessed_by_ward' : aggregate(\n",
    "        source = merged[~pd.isna(merged['ward_chicago_data_year'])],\n",
    "        groupby = ['ward_num'],\n",
    "        columns = ['certified_land', 'certified_bldg', 'certified_tot'],\n",
    "        modify_index = lambda index: index.astype('int'),\n",
    "    ),\n",
    "    'assessed_by_nbhd' : aggregate(\n",
    "        source = merged[merged['nbhd_code'].isin(nbhd_list)],\n",
    "        groupby = ['nbhd_code'],\n",
    "        columns = ['certified_land', 'certified_bldg', 'certified_tot'],\n",
    "    ),\n",
    "    'assessed_by_community' : aggregate(\n",
    "        source = merged[~pd.isna(merged['chicago_community_area_name'])],\n",
    "        groupby = ['chicago_community_area_name'],\n",
    "        columns = ['certified_land', 'certified_bldg', 'certified_tot'],\n",
    "    )\n",
    "}\n",
    "\n",
    "with open('assessed_data.js', 'w') as f:\n",
    "    f.write(f'const assessed_date = \"{today}\";')\n",
    "    for name, data in assessed_data.items():\n",
    "        data = data.swaplevel().sort_index()\n",
    "        f.write(f'\\n\\nconst {name} = ')\n",
    "        f.write(json.dumps({ i: data.loc[i].to_dict(orient='index') for i in data.index.levels[0] }))\n",
    "        f.write(';')"
   ]
  },
  {
   "cell_type": "code",
   "execution_count": null,
   "id": "4c7c35f4",
   "metadata": {},
   "outputs": [],
   "source": []
  }
 ],
 "metadata": {
  "kernelspec": {
   "display_name": "Python 3 (ipykernel)",
   "language": "python",
   "name": "python3"
  },
  "language_info": {
   "codemirror_mode": {
    "name": "ipython",
    "version": 3
   },
   "file_extension": ".py",
   "mimetype": "text/x-python",
   "name": "python",
   "nbconvert_exporter": "python",
   "pygments_lexer": "ipython3",
   "version": "3.8.16"
  }
 },
 "nbformat": 4,
 "nbformat_minor": 5
}
