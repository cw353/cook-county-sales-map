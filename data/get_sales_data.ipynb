{
 "cells": [
  {
   "cell_type": "code",
   "execution_count": 1,
   "id": "c0e16c0f",
   "metadata": {},
   "outputs": [],
   "source": [
    "import numpy as np\n",
    "import pandas as pd\n",
    "import urllib\n",
    "import json"
   ]
  },
  {
   "cell_type": "code",
   "execution_count": 2,
   "id": "19a3f24a",
   "metadata": {},
   "outputs": [],
   "source": [
    "\"\"\"Helper function to make Socrata API request.\"\"\"\n",
    "def makeAPIRequest(api_endpoint, params, read_function = pd.read_json, limit=100000000, debug=False):\n",
    "    query = \"?\"\n",
    "    if len(params) > 0:\n",
    "        query += \"&\".join(params) + \"&\"\n",
    "    query += \"$limit=\" + str(limit)\n",
    "    url = api_endpoint + urllib.parse.quote(query, safe=\"&?$=,!()\")\n",
    "    if debug:\n",
    "        print(\"Request URL:\", url)\n",
    "    return read_function(url)"
   ]
  },
  {
   "cell_type": "code",
   "execution_count": 3,
   "id": "ae63284d",
   "metadata": {},
   "outputs": [],
   "source": [
    "nbhd_list = tuple(makeAPIRequest(\n",
    "    api_endpoint = \"https://datacatalog.cookcountyil.gov/resource/pcdw-pxtg.json\",\n",
    "    params = [\n",
    "        \"$select=distinct town_nbhd as nbhd_code\",\n",
    "    ],\n",
    "    debug = False,\n",
    ")['nbhd_code'].astype('str'))"
   ]
  },
  {
   "cell_type": "code",
   "execution_count": 4,
   "id": "a27df76e",
   "metadata": {},
   "outputs": [],
   "source": [
    "propertyClasses = ['2','3','9']"
   ]
  },
  {
   "cell_type": "code",
   "execution_count": 5,
   "id": "c36e142a",
   "metadata": {},
   "outputs": [],
   "source": [
    "sales = makeAPIRequest(\n",
    "    api_endpoint = \"https://datacatalog.cookcountyil.gov/resource/wvhk-k5uv.json\",\n",
    "    params = [\n",
    "        \"$select=year, class, nbhd_code, sale_price\",\n",
    "        \"$where=year between 2012 and 2022 AND (\" + \\\n",
    "        \" OR \".join([f\"starts_with(class, '{c}')\" for c in propertyClasses]) + \\\n",
    "        \") AND nbhd_code in \" + str(nbhd_list),\n",
    "    ],\n",
    "    debug = False\n",
    ")\n",
    "sales['property_class'] = sales['class'].astype('str').str.slice(0,1)\n",
    "sales.drop(columns=['class'], inplace=True)"
   ]
  },
  {
   "cell_type": "code",
   "execution_count": 6,
   "id": "108ad9c5",
   "metadata": {},
   "outputs": [],
   "source": [
    "data = sales.groupby(\n",
    "    by=['property_class', 'nbhd_code', 'year']\n",
    ")['sale_price'].describe(\n",
    "    percentiles = [.5]\n",
    ").drop(\n",
    "    columns = ['std']\n",
    ").rename(\n",
    "    columns={'50%': 'median'}\n",
    ").round(0)"
   ]
  },
  {
   "cell_type": "code",
   "execution_count": 7,
   "id": "e13b1767",
   "metadata": {},
   "outputs": [],
   "source": [
    "data_as_dict = {\n",
    "    property_class: {\n",
    "        nbhd: {\n",
    "            year: (data.loc[property_class, nbhd, year].to_dict() if (property_class, nbhd, year) in data.index else None) for year in data.index.levels[2]\n",
    "        } for nbhd in data.index.levels[1]\n",
    "    } for property_class in data.index.levels[0]\n",
    "}"
   ]
  },
  {
   "cell_type": "code",
   "execution_count": 8,
   "id": "ca6ce345",
   "metadata": {},
   "outputs": [],
   "source": [
    "totals = sales.groupby(\n",
    "    by=['property_class', 'year']\n",
    ")['sale_price'].describe(\n",
    "    percentiles = [.5]\n",
    ").drop(\n",
    "    columns = ['std']\n",
    ").rename(\n",
    "    columns={'50%': 'median'}\n",
    ").round(0)"
   ]
  },
  {
   "cell_type": "code",
   "execution_count": 9,
   "id": "ba0a2d82",
   "metadata": {},
   "outputs": [],
   "source": [
    "totals_as_dict = {\n",
    "    property_class: {\n",
    "        year: (totals.loc[property_class, year].to_dict() if (property_class, year) in totals.index else None) for year in totals.index.levels[1]\n",
    "    } for property_class in totals.index.levels[0]\n",
    "}"
   ]
  },
  {
   "cell_type": "code",
   "execution_count": 10,
   "id": "4ca969a3",
   "metadata": {},
   "outputs": [],
   "source": [
    "years = sales['year'].sort_values().unique()"
   ]
  },
  {
   "cell_type": "code",
   "execution_count": 11,
   "id": "9d078b78",
   "metadata": {},
   "outputs": [],
   "source": [
    "with open('sales.js', 'w') as f:\n",
    "    f.write(f'const sales_years = ')\n",
    "    f.write(str(list(years)))\n",
    "    f.write(';')\n",
    "    f.write(f'const sales_by_nbhd = ')\n",
    "    f.write(json.dumps(data_as_dict))\n",
    "    f.write(';')\n",
    "    f.write(f'\\nconst sales_totals = ')\n",
    "    f.write(json.dumps(totals_as_dict))\n",
    "    f.write(';')"
   ]
  }
 ],
 "metadata": {
  "kernelspec": {
   "display_name": "Python 3 (ipykernel)",
   "language": "python",
   "name": "python3"
  },
  "language_info": {
   "codemirror_mode": {
    "name": "ipython",
    "version": 3
   },
   "file_extension": ".py",
   "mimetype": "text/x-python",
   "name": "python",
   "nbconvert_exporter": "python",
   "pygments_lexer": "ipython3",
   "version": "3.8.16"
  }
 },
 "nbformat": 4,
 "nbformat_minor": 5
}
