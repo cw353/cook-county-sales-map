{
 "cells": [
  {
   "cell_type": "code",
   "execution_count": 1,
   "id": "c0e16c0f",
   "metadata": {},
   "outputs": [],
   "source": [
    "import numpy as np\n",
    "import pandas as pd\n",
    "import urllib\n",
    "import json"
   ]
  },
  {
   "cell_type": "code",
   "execution_count": 2,
   "id": "19a3f24a",
   "metadata": {},
   "outputs": [],
   "source": [
    "\"\"\"Helper function to make Socrata API request.\"\"\"\n",
    "def makeAPIRequest(api_endpoint, params, read_function = pd.read_json, limit=100000000, debug=False):\n",
    "    query = \"?\"\n",
    "    if len(params) > 0:\n",
    "        query += \"&\".join(params) + \"&\"\n",
    "    query += \"$limit=\" + str(limit)\n",
    "    url = api_endpoint + urllib.parse.quote(query, safe=\"&?$=,!()\")\n",
    "    if debug:\n",
    "        print(\"Request URL:\", url)\n",
    "    return read_function(url)"
   ]
  },
  {
   "cell_type": "code",
   "execution_count": 3,
   "id": "ae63284d",
   "metadata": {},
   "outputs": [],
   "source": [
    "nbhd_list = tuple(makeAPIRequest(\n",
    "    api_endpoint = \"https://datacatalog.cookcountyil.gov/resource/pcdw-pxtg.json\",\n",
    "    params = [\n",
    "        \"$select=distinct town_nbhd as nbhd_code\",\n",
    "    ],\n",
    "    debug = False,\n",
    ")['nbhd_code'].astype('str'))"
   ]
  },
  {
   "cell_type": "code",
   "execution_count": 4,
   "id": "c36e142a",
   "metadata": {},
   "outputs": [],
   "source": [
    "sales = makeAPIRequest(\n",
    "    api_endpoint = \"https://datacatalog.cookcountyil.gov/resource/wvhk-k5uv.json\",\n",
    "    params = [\n",
    "        \"$select=year, nbhd_code, sale_price\",\n",
    "        \"$where=year between 2012 and 2022 AND starts_with(class, '2') AND nbhd_code in \" + str(nbhd_list),\n",
    "    ],\n",
    "    debug = False\n",
    ")"
   ]
  },
  {
   "cell_type": "code",
   "execution_count": 5,
   "id": "108ad9c5",
   "metadata": {},
   "outputs": [],
   "source": [
    "data = sales.groupby(\n",
    "    by=['nbhd_code', 'year']\n",
    ")['sale_price'].describe(\n",
    "    percentiles = [.5]\n",
    ").drop(\n",
    "    columns = ['max', 'min', 'std']\n",
    ").rename(\n",
    "    columns={'50%': 'median'}\n",
    ").round(0)"
   ]
  },
  {
   "cell_type": "code",
   "execution_count": 6,
   "id": "229d3550",
   "metadata": {},
   "outputs": [],
   "source": [
    "data_as_dict = { nbhd: {\n",
    "    year: (data.loc[nbhd, year].to_dict() if (nbhd, year) in data.index else None) for year in data.index.levels[1]\n",
    "} for nbhd in data.index.levels[0] }"
   ]
  },
  {
   "cell_type": "code",
   "execution_count": 7,
   "id": "ca6ce345",
   "metadata": {},
   "outputs": [],
   "source": [
    "totals = sales.groupby(\n",
    "    by=['year']\n",
    ")['sale_price'].describe(\n",
    "    percentiles = [.5]\n",
    ").drop(\n",
    "    columns = ['max', 'min', 'std']\n",
    ").rename(\n",
    "    columns={'50%': 'median'}\n",
    ").round(0)"
   ]
  },
  {
   "cell_type": "code",
   "execution_count": 8,
   "id": "4ca969a3",
   "metadata": {},
   "outputs": [],
   "source": [
    "years = sales['year'].sort_values().unique()"
   ]
  },
  {
   "cell_type": "code",
   "execution_count": 9,
   "id": "9d078b78",
   "metadata": {},
   "outputs": [],
   "source": [
    "with open('sales.js', 'w') as f:\n",
    "    f.write(f'const sales_years = ')\n",
    "    f.write(str(list(years)))\n",
    "    f.write(';')\n",
    "    f.write(f'const sales_by_nbhd = ')\n",
    "    f.write(json.dumps(data_as_dict))\n",
    "    f.write(';')\n",
    "    f.write(f'\\nconst sales_totals = ')\n",
    "    f.write(totals.to_json(orient='index'))\n",
    "    f.write(';')"
   ]
  }
 ],
 "metadata": {
  "kernelspec": {
   "display_name": "Python 3 (ipykernel)",
   "language": "python",
   "name": "python3"
  },
  "language_info": {
   "codemirror_mode": {
    "name": "ipython",
    "version": 3
   },
   "file_extension": ".py",
   "mimetype": "text/x-python",
   "name": "python",
   "nbconvert_exporter": "python",
   "pygments_lexer": "ipython3",
   "version": "3.8.16"
  }
 },
 "nbformat": 4,
 "nbformat_minor": 5
}
